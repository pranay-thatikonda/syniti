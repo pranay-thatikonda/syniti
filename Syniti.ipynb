{
 "cells": [
  {
   "cell_type": "code",
   "execution_count": 1,
   "id": "94187eff-d2d5-41cd-990e-8f6b92a57607",
   "metadata": {},
   "outputs": [],
   "source": [
    "import pandas as pd\n",
    "import json"
   ]
  },
  {
   "cell_type": "code",
   "execution_count": 10,
   "id": "b0326a65-54f0-42b5-8529-40005e9f2f47",
   "metadata": {},
   "outputs": [],
   "source": [
    "with open(\"data.json\",\"r\") as reading:\n",
    "    df=json.load(reading)\n",
    "\n"
   ]
  },
  {
   "cell_type": "code",
   "execution_count": 257,
   "id": "7908658a-3078-47b6-840f-fd5b971ad2ef",
   "metadata": {},
   "outputs": [],
   "source": [
    "table=pd.DataFrame(df)\n",
    "zipcode=pd.read_excel(\"uszip.xlsx\")\n",
    "l=zipcode[\"zip\"].tolist()\n",
    "z=[]\n",
    "for i in l:\n",
    "    z=z+[str(i)]"
   ]
  },
  {
   "cell_type": "code",
   "execution_count": 266,
   "id": "1874e719-d1be-4a92-ac6c-acc3d917355a",
   "metadata": {},
   "outputs": [],
   "source": [
    "dd=table[pd.isnull(table[\"name\"])|(table.name==\"\")|pd.isnull(table[\"address\"])|(table.address==\"\")|pd.isnull(table[\"zip\"])|(table.zip==\"\")\n",
    "         |table.duplicated(\"id\",keep=False)|~(table.zip.isin(z))]\n",
    "\n",
    "ids=dd['id'].tolist()\n",
    "for i in ids:\n",
    "    print(I)\n"
   ]
  },
  {
   "cell_type": "code",
   "execution_count": null,
   "id": "9f2f9039-7946-43ff-9680-bd8486b9f1ab",
   "metadata": {},
   "outputs": [],
   "source": []
  }
 ],
 "metadata": {
  "kernelspec": {
   "display_name": "Python",
   "language": "python",
   "name": "conda-env-python-py"
  },
  "language_info": {
   "codemirror_mode": {
    "name": "ipython",
    "version": 3
   },
   "file_extension": ".py",
   "mimetype": "text/x-python",
   "name": "python",
   "nbconvert_exporter": "python",
   "pygments_lexer": "ipython3",
   "version": "3.6.13"
  }
 },
 "nbformat": 4,
 "nbformat_minor": 5
}
